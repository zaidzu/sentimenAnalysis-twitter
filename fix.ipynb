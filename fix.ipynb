{
 "cells": [
  {
   "cell_type": "code",
   "execution_count": 5,
   "metadata": {},
   "outputs": [],
   "source": [
    "import tweepy #library untuk mengconnectkan dengan twitter\n",
    "import re #library regex gunanya membuang tulisan yang rancu untuk sentimen analisis\n",
    "from textblob import TextBlob #begitu pula textblob untuk sentimen analisis\n",
    "import datetime as DT #untuk menghitung seminggu kebelakang\n",
    "import yfinance as yf #untuk mengambil data stock saham/crypto\n",
    "import matplotlib.pyplot as plt #untuk grafik\n",
    "import numpy #untuk grafik"
   ]
  },
  {
   "cell_type": "code",
   "execution_count": 6,
   "metadata": {},
   "outputs": [],
   "source": [
    "api_key = \"sOeFIF56Ov9p6eaMBsYSGs663\" #api yang bisa didapatkan di twitter developer\n",
    "api_secret_key = \"9GHppENqR91ARCyYqzQkEnK2BvWJAEalMxxebFrHEtOuJqfYWd\" #ini juga"
   ]
  },
  {
   "cell_type": "code",
   "execution_count": 7,
   "metadata": {},
   "outputs": [],
   "source": [
    "    auth = tweepy.OAuthHandler(api_key, api_secret_key)\n",
    "    api = tweepy.API(auth)#untuk mengkonekan dengan API"
   ]
  },
  {
   "cell_type": "code",
   "execution_count": 8,
   "metadata": {},
   "outputs": [
    {
     "name": "stdout",
     "output_type": "stream",
     "text": [
      "2021-10-30\n"
     ]
    },
    {
     "ename": "AttributeError",
     "evalue": "'API' object has no attribute 'search'",
     "output_type": "error",
     "traceback": [
      "\u001b[1;31m---------------------------------------------------------------------------\u001b[0m",
      "\u001b[1;31mAttributeError\u001b[0m                            Traceback (most recent call last)",
      "\u001b[1;32m<ipython-input-8-71cbdcfd7012>\u001b[0m in \u001b[0;36m<module>\u001b[1;34m\u001b[0m\n\u001b[0;32m      8\u001b[0m     \u001b[0mdayHminusOne\u001b[0m \u001b[1;33m=\u001b[0m \u001b[0mdayH\u001b[0m \u001b[1;33m-\u001b[0m \u001b[0mDT\u001b[0m\u001b[1;33m.\u001b[0m\u001b[0mtimedelta\u001b[0m\u001b[1;33m(\u001b[0m\u001b[0mdays\u001b[0m\u001b[1;33m=\u001b[0m\u001b[1;36m1\u001b[0m\u001b[1;33m)\u001b[0m\u001b[1;33m\u001b[0m\u001b[1;33m\u001b[0m\u001b[0m\n\u001b[0;32m      9\u001b[0m     \u001b[0mprint\u001b[0m\u001b[1;33m(\u001b[0m\u001b[0mstr\u001b[0m\u001b[1;33m(\u001b[0m\u001b[0mdayH\u001b[0m\u001b[1;33m)\u001b[0m\u001b[1;33m)\u001b[0m\u001b[1;33m\u001b[0m\u001b[1;33m\u001b[0m\u001b[0m\n\u001b[1;32m---> 10\u001b[1;33m     \u001b[0mhasilSearch\u001b[0m \u001b[1;33m=\u001b[0m \u001b[0mapi\u001b[0m\u001b[1;33m.\u001b[0m\u001b[0msearch\u001b[0m\u001b[1;33m(\u001b[0m\u001b[0mq\u001b[0m\u001b[1;33m=\u001b[0m\u001b[1;34m\"Tesla\"\u001b[0m\u001b[1;33m,\u001b[0m \u001b[0mlang\u001b[0m\u001b[1;33m=\u001b[0m\u001b[1;34m\"en\"\u001b[0m\u001b[1;33m,\u001b[0m \u001b[0mcount\u001b[0m\u001b[1;33m=\u001b[0m\u001b[1;36m100\u001b[0m\u001b[1;33m,\u001b[0m \u001b[0msince\u001b[0m\u001b[1;33m=\u001b[0m\u001b[0mstr\u001b[0m\u001b[1;33m(\u001b[0m\u001b[0mdayHminusOne\u001b[0m\u001b[1;33m)\u001b[0m\u001b[1;33m,\u001b[0m \u001b[0muntil\u001b[0m\u001b[1;33m=\u001b[0m\u001b[0mstr\u001b[0m\u001b[1;33m(\u001b[0m\u001b[0mdayH\u001b[0m\u001b[1;33m)\u001b[0m\u001b[1;33m)\u001b[0m\u001b[1;33m\u001b[0m\u001b[1;33m\u001b[0m\u001b[0m\n\u001b[0m\u001b[0;32m     11\u001b[0m \u001b[1;33m\u001b[0m\u001b[0m\n\u001b[0;32m     12\u001b[0m     \u001b[1;32mfor\u001b[0m \u001b[0mtweet\u001b[0m \u001b[1;32min\u001b[0m \u001b[0mhasilSearch\u001b[0m\u001b[1;33m:\u001b[0m\u001b[1;33m\u001b[0m\u001b[1;33m\u001b[0m\u001b[0m\n",
      "\u001b[1;31mAttributeError\u001b[0m: 'API' object has no attribute 'search'"
     ]
    }
   ],
   "source": [
    "hasil_mingguan=[]#untuk menyimpan hasil_mingguan\n",
    "nilai_sentimen_mingguan=[]#untuk menyimpan nilai_sentimen_mingguan\n",
    "#kode dibawah untuk mengambil data dari seminggu kebelakang\n",
    "for i in range(7):\n",
    "    hasilAnalisis=[]#hasil akhir analisis\n",
    "    today = DT.date.today()\n",
    "    dayH = today - DT.timedelta(days=i)\n",
    "    dayHminusOne = dayH - DT.timedelta(days=1)\n",
    "    print(str(dayH))\n",
    "    hasilSearch = api.search(q=\"Tesla\", lang=\"en\", count=100, since=str(dayHminusOne), until=str(dayH))\n",
    "\n",
    "    for tweet in hasilSearch:\n",
    "        tweet_properties = {} #untuk membuat sebuah tabel menggunakan fungsi dictionary\n",
    "        tweet_properties[\"tanggal_tweet\"] = tweet.created_at #memasukan tanggal tweet kedalam tweet_properties\n",
    "        tweet_properties[\"nama_user\"] = tweet.user.screen_name #memasukan nama user tweet kedalam tweet_properties\n",
    "        tweet_properties[\"isi_tweet\"] = tweet.text #memasukan isi tweet kedalam tweet_properties\n",
    "        tweet_bersih = ' '.join(re.sub(\"(@[A-Za-z0-9]+)|([^0-9A-Za-z \\t])|(\\w+:\\/\\/\\S+)\",\" \",tweet.text).split())\n",
    "        #tweet_bersih berguna untuk menghilangkan simbol atau karakter yang membuat isi tweet rancu\n",
    "        #jika tweet belum di bersihkan maka akan berpengaruh dengan hasil sentimen nantinya\n",
    "        analysis = TextBlob(tweet_bersih)#library berguna untuk menghitung sentimen analisis dari sebuah kalimat, textblob \n",
    "        #dapat menghitung sebuah polariy dari sebuah kalimat\n",
    "        #lebih optimal jika data sentimen berbahasa inggris karena library dari sananya begitu\n",
    "        #maka dari itu pada hasilSearch itu lang/bahasanya dideklarasikan menjadi en/english\n",
    "        #penjelasan mengenai polarity\n",
    "        #jika nilai polarity kurang dari 0 maka negatif\n",
    "        #jika nilai polarity samadengan 0 maka netral\n",
    "        #jika nilai polarity lebih dari 0 maka positif\n",
    "        #maka jadilah kondisi seperti dibawah\n",
    "        #begin condition polarity\n",
    "        if analysis.sentiment.polarity > 0.0:\n",
    "            tweet_properties[\"sentimen\"] = \"positif\"\n",
    "        elif analysis.sentiment.polarity == 0.0:\n",
    "            tweet_properties[\"sentimen\"] = \"netral\"\n",
    "        else:\n",
    "            tweet_properties[\"sentimen\"] = \"negatif\"\n",
    "        #end condition polarity\n",
    "        #dibawah bertujuan untuk menghapus retweet menghindari tweet duplikat\n",
    "        if tweet.retweet_count > 0:\n",
    "            if tweet_properties not in hasilAnalisis:#hasilAnalisis berasal dari variabel hasilAnalisis diatas\n",
    "                hasilAnalisis.append(tweet_properties)#sebenarnya bukan menghapus semua retweet tapi membatasi retweet hanya boleh 1 saja\n",
    "        else:\n",
    "            hasilAnalisis.append(tweet_properties)\n",
    "        #mengelompokan jenis tweet\n",
    "        tweet_positif = [t for t in hasilAnalisis if t[\"sentimen\"]==\"positif\"]\n",
    "        tweet_netral = [t for t in hasilAnalisis if t[\"sentimen\"]==\"netral\"]\n",
    "        tweet_negatif = [t for t in hasilAnalisis if t[\"sentimen\"]==\"negatif\"]\n",
    "        \n",
    "    temp = []\n",
    "    temp.append(100*len(tweet_positif)/len(hasilAnalisis))\n",
    "    temp.append(100*len(tweet_netral)/len(hasilAnalisis))\n",
    "    temp.append(100*len(tweet_negatif)/len(hasilAnalisis))\n",
    "    nilai_sentimen_mingguan.append(temp)\n",
    "    hasil_mingguan.append(hasilAnalisis)\n",
    "    #mengkonversi menjadi persen sesuai dengan jenis tweet\n",
    "    print(\"Hasil Sentimen\")\n",
    "    print(\"positif: \", len(tweet_positif), \"({} %)\".format(100*len(tweet_positif)/len(hasilAnalisis)))\n",
    "    print(\"netral: \", len(tweet_netral), \"({} %)\".format(100*len(tweet_netral)/len(hasilAnalisis)))\n",
    "    print(\"negatif: \", len(tweet_negatif), \"({} %)\".format(100*len(tweet_negatif)/len(hasilAnalisis)))"
   ]
  },
  {
   "cell_type": "code",
   "execution_count": 12,
   "metadata": {},
   "outputs": [
    {
     "name": "stdout",
     "output_type": "stream",
     "text": [
      "[*********************100%***********************]  1 of 1 completed\n"
     ]
    }
   ],
   "source": [
    "#untuk mengambil kode dari yahoo finance dikarenakan kita menggunakan library harga stock dari yahoo\n",
    "today = DT.date.today()\n",
    "week = today - DT.timedelta(days=7)\n",
    "stock_yahoo = yf.download('TSLA', week, today)#di sini bisa menginputkan nama saham atau crypto yang akan diambil datanya\n",
    "#data yang diambil juga satu minggu kebelakang sama dengan data sentimen analisisnya agar sejalan ketika dibuat grafiknya\n",
    "time_series = [today - DT.timedelta(days= (t+1)) for t in range(7)]\n",
    "positive_sentiment = [p[0] for p in nilai_sentimen_mingguan]\n",
    "neutral_sentiment = [p[1] for p in nilai_sentimen_mingguan]\n",
    "negative_sentiment = [p[2] for p in nilai_sentimen_mingguan]\n",
    "stock_yahoo_clean = [p.split(\"    \") for p in str(stock_yahoo['Adj Close']).split(\"\\n\") if \"    \" in p]\n",
    "stock_weekly = []\n",
    "for x in time_series:\n",
    "    temp = [p[0] for p in stock_yahoo_clean]\n",
    "    try:\n",
    "        stock_weekly.append(float(stock_yahoo_clean[temp.index(str(x))][1]))\n",
    "    except Exception as e:\n",
    "        stock_weekly.append(float(0.0))\n",
    "for idx, x in enumerate(stock_weekly):\n",
    "    if x == 0.0:\n",
    "        try:\n",
    "            if stock_weekly[idx+1] == 0.0:\n",
    "                stock_weekly[idx] = stock_weekly[idx+2]\n",
    "            else:\n",
    "                stock_weekly[idx] = stock_weekly[idx+1]\n",
    "        except Exception as e:\n",
    "            print(e)"
   ]
  },
  {
   "cell_type": "code",
   "execution_count": 13,
   "metadata": {},
   "outputs": [
    {
     "data": {
      "image/png": "[encoded data removed]",
      "text/plain": [
       "<Figure size 432x288 with 3 Axes>"
      ]
     },
     "metadata": {
      "needs_background": "light"
     },
     "output_type": "display_data"
    }
   ],
   "source": [
    "#code untuk memunculkan grafik dari jenis tweet dan harga stock yang diinputkan\n",
    "def make_patch_spines_invisible(ax):\n",
    "    ax.set_frame_on(True)\n",
    "    ax.patch.set_visible(False)\n",
    "    for sp in ax.spines.values():\n",
    "        sp.set_visible(False)\n",
    "        \n",
    "fig, host = plt.subplots()\n",
    "fig.subplots_adjust(right=2)\n",
    "par1 = host.twinx()\n",
    "par2 = host.twinx()\n",
    "par2.spines[\"right\"].set_position((\"axes\", 1.1))\n",
    "make_patch_spines_invisible(par2)\n",
    "par2.spines[\"right\"].set_visible(True)\n",
    "p1, = host.plot(time_series, stock_weekly, \"b-\", label=\"Stock\")\n",
    "p2, = par1.plot(time_series, positive_sentiment, \"g-\", label=\"Positive\")\n",
    "p3, = par2.plot(time_series, negative_sentiment, \"r-\", label=\"Negative\")\n",
    "par1.set_ylim(0, 100)\n",
    "par2.set_ylim(0, 100)\n",
    "host.set_xlabel(\"Series\")\n",
    "host.set_ylabel(\"Stock\")\n",
    "par1.set_ylabel(\"Positve\")\n",
    "par2.set_ylabel(\"Negative\")\n",
    "host.yaxis.label.set_color(p1.get_color())\n",
    "par1.yaxis.label.set_color(p2.get_color())\n",
    "par2.yaxis.label.set_color(p3.get_color())\n",
    "tkw = dict(size=4, width=1.5)\n",
    "host.tick_params(axis='y', colors=p1.get_color(), **tkw)\n",
    "par1.tick_params(axis='y', colors=p2.get_color(), **tkw)\n",
    "par2.tick_params(axis='y', colors=p3.get_color(), **tkw)\n",
    "host.tick_params(axis='x', **tkw)\n",
    "lines = [p1, p2, p3]\n",
    "host.legend(lines, [l.get_label() for l in lines])\n",
    "plt.show()"
   ]
  },
  {
   "cell_type": "code",
   "execution_count": null,
   "metadata": {},
   "outputs": [],
   "source": []
  }
 ],
 "metadata": {
  "kernelspec": {
   "display_name": "Python 3",
   "language": "python",
   "name": "python3"
  },
  "language_info": {
   "codemirror_mode": {
    "name": "ipython",
    "version": 3
   },
   "file_extension": ".py",
   "mimetype": "text/x-python",
   "name": "python",
   "nbconvert_exporter": "python",
   "pygments_lexer": "ipython3",
   "version": "3.8.5"
  }
 },
 "nbformat": 4,
 "nbformat_minor": 5
}
